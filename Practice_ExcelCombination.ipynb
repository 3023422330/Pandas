{
 "cells": [
  {
   "cell_type": "code",
   "execution_count": 4,
   "id": "596db3a4-6b06-44d8-8d5e-f959a7d7089f",
   "metadata": {},
   "outputs": [],
   "source": [
    "work_dir='c15_excel_split_merge'\n",
    "splits_dir = f'{work_dir}/splits'\n",
    "import os\n",
    "if not os.path.exists(splits_dir):\n",
    "    os.mkdir(splits_dir)"
   ]
  },
  {
   "cell_type": "code",
   "execution_count": 5,
   "id": "675c6615-f636-4e29-a5be-9481ab1d3280",
   "metadata": {},
   "outputs": [],
   "source": [
    "import pandas as pd"
   ]
  },
  {
   "cell_type": "code",
   "execution_count": 7,
   "id": "ca7e5b59-e01c-4f49-9184-6a9d7932707e",
   "metadata": {},
   "outputs": [],
   "source": [
    "df_source =pd.read_excel(f'{work_dir}/crazyant_blog_articles_source.xlsx')"
   ]
  },
  {
   "cell_type": "code",
   "execution_count": 9,
   "id": "c536185a-ea32-49d0-8411-ed09ef6ef950",
   "metadata": {},
   "outputs": [
    {
     "data": {
      "text/html": [
       "<div>\n",
       "<style scoped>\n",
       "    .dataframe tbody tr th:only-of-type {\n",
       "        vertical-align: middle;\n",
       "    }\n",
       "\n",
       "    .dataframe tbody tr th {\n",
       "        vertical-align: top;\n",
       "    }\n",
       "\n",
       "    .dataframe thead th {\n",
       "        text-align: right;\n",
       "    }\n",
       "</style>\n",
       "<table border=\"1\" class=\"dataframe\">\n",
       "  <thead>\n",
       "    <tr style=\"text-align: right;\">\n",
       "      <th></th>\n",
       "      <th>id</th>\n",
       "      <th>title</th>\n",
       "      <th>tags</th>\n",
       "    </tr>\n",
       "  </thead>\n",
       "  <tbody>\n",
       "    <tr>\n",
       "      <th>0</th>\n",
       "      <td>2585</td>\n",
       "      <td>Tensorflow怎样接收变长列表特征</td>\n",
       "      <td>python,tensorflow,特征工程</td>\n",
       "    </tr>\n",
       "    <tr>\n",
       "      <th>1</th>\n",
       "      <td>2583</td>\n",
       "      <td>Pandas实现数据的合并concat</td>\n",
       "      <td>pandas,python,数据分析</td>\n",
       "    </tr>\n",
       "    <tr>\n",
       "      <th>2</th>\n",
       "      <td>2574</td>\n",
       "      <td>Pandas的Index索引有什么用途？</td>\n",
       "      <td>pandas,python,数据分析</td>\n",
       "    </tr>\n",
       "    <tr>\n",
       "      <th>3</th>\n",
       "      <td>2564</td>\n",
       "      <td>机器学习常用数据集大全</td>\n",
       "      <td>python,机器学习</td>\n",
       "    </tr>\n",
       "    <tr>\n",
       "      <th>4</th>\n",
       "      <td>2561</td>\n",
       "      <td>一个数据科学家的修炼路径</td>\n",
       "      <td>数据分析</td>\n",
       "    </tr>\n",
       "  </tbody>\n",
       "</table>\n",
       "</div>"
      ],
      "text/plain": [
       "     id                 title                    tags\n",
       "0  2585  Tensorflow怎样接收变长列表特征  python,tensorflow,特征工程\n",
       "1  2583   Pandas实现数据的合并concat      pandas,python,数据分析\n",
       "2  2574  Pandas的Index索引有什么用途？      pandas,python,数据分析\n",
       "3  2564           机器学习常用数据集大全             python,机器学习\n",
       "4  2561          一个数据科学家的修炼路径                    数据分析"
      ]
     },
     "execution_count": 9,
     "metadata": {},
     "output_type": "execute_result"
    }
   ],
   "source": [
    "df_source.head()"
   ]
  },
  {
   "cell_type": "code",
   "execution_count": 10,
   "id": "0c47d37b-4a4e-4ce8-a57d-1dc99b9f52b2",
   "metadata": {},
   "outputs": [
    {
     "data": {
      "text/plain": [
       "RangeIndex(start=0, stop=258, step=1)"
      ]
     },
     "execution_count": 10,
     "metadata": {},
     "output_type": "execute_result"
    }
   ],
   "source": [
    "df_source.index"
   ]
  },
  {
   "cell_type": "code",
   "execution_count": 11,
   "id": "15e973f7-29bd-4fb4-ace6-92234f45aead",
   "metadata": {},
   "outputs": [
    {
     "data": {
      "text/plain": [
       "(258, 3)"
      ]
     },
     "execution_count": 11,
     "metadata": {},
     "output_type": "execute_result"
    }
   ],
   "source": [
    "df_source.shape"
   ]
  },
  {
   "cell_type": "code",
   "execution_count": 12,
   "id": "8c5164c0-df6c-4f9d-a816-aa76d235c0c6",
   "metadata": {},
   "outputs": [
    {
     "data": {
      "text/plain": [
       "258"
      ]
     },
     "execution_count": 12,
     "metadata": {},
     "output_type": "execute_result"
    }
   ],
   "source": [
    "total_row_count = df_source.shape[0]\n",
    "total_row_count"
   ]
  },
  {
   "cell_type": "code",
   "execution_count": 19,
   "id": "3272f8af-6c1b-4375-a932-206eb0c714fe",
   "metadata": {},
   "outputs": [],
   "source": [
    "# big excel to different pieces\n",
    "user_names = ['one', 'Two', 'Three', 'Four', 'Five', 'Six']"
   ]
  },
  {
   "cell_type": "code",
   "execution_count": 20,
   "id": "1df5d9ec-91d7-42f0-af35-b2d42b6ff7ef",
   "metadata": {},
   "outputs": [
    {
     "data": {
      "text/plain": [
       "43"
      ]
     },
     "execution_count": 20,
     "metadata": {},
     "output_type": "execute_result"
    }
   ],
   "source": [
    "split_size = total_row_count // len(user_names)\n",
    "if total_row_count % len(user_names) !=0:\n",
    "    split_size+=1\n",
    "split_size"
   ]
  },
  {
   "cell_type": "code",
   "execution_count": 21,
   "id": "60fb9aae-c720-4854-943c-4b8c58815080",
   "metadata": {},
   "outputs": [],
   "source": [
    "#split into different dataframe\n",
    "df_subs = []\n",
    "for idx, user_name in enumerate(user_names):\n",
    "    begin = idx*split_size   # first loop: 'one'--> begin=0*43=0, end=0+43=43\n",
    "    end = begin+split_size   # second loop: 'two' --> begin = 1*43 = 43, end = 43+43 = 86\n",
    "    df_sub = df_source.iloc[begin:end] # third loop: 'three' --> begin=2*43=86, end=86+43=43+43+43=129\n",
    "    df_subs.append((idx, user_name, df_sub)) # four loop: 'four' --> begin=3*43=129, end=129+43=43+43+43+43=172\n",
    "    "
   ]
  },
  {
   "cell_type": "code",
   "execution_count": 22,
   "id": "f626fcb9-245c-4905-8be5-135d9ecda363",
   "metadata": {},
   "outputs": [],
   "source": [
    "for idx, user_name, df_sub in df_subs:\n",
    "    file_name = f'{split_dir}/crazyant_blog_articles_{idx}_{user_name}.xlsx'\n",
    "    df_sub.to_excel(file_name, index=False)"
   ]
  },
  {
   "cell_type": "code",
   "execution_count": 24,
   "id": "d231643d-b821-4f98-a8bf-0eb9f3697ade",
   "metadata": {},
   "outputs": [
    {
     "data": {
      "text/plain": [
       "['crazyant_blog_articles_0_one.xlsx',\n",
       " 'crazyant_blog_articles_1_Two.xlsx',\n",
       " 'crazyant_blog_articles_2_Three.xlsx',\n",
       " 'crazyant_blog_articles_3_Four.xlsx',\n",
       " 'crazyant_blog_articles_4_Five.xlsx',\n",
       " 'crazyant_blog_articles_5_Six.xlsx']"
      ]
     },
     "execution_count": 24,
     "metadata": {},
     "output_type": "execute_result"
    }
   ],
   "source": [
    "# combine multiples small excel into big excel\n",
    "import os \n",
    "excel_names = []\n",
    "for excel_name in os.listdir(splits_dir):\n",
    "    excel_names.append(excel_name)\n",
    "excel_names"
   ]
  },
  {
   "cell_type": "code",
   "execution_count": 25,
   "id": "c0f5c687-5e45-4de9-bd44-c1f87c5847a0",
   "metadata": {},
   "outputs": [
    {
     "name": "stdout",
     "output_type": "stream",
     "text": [
      "crazyant_blog_articles_0_one.xlsx one\n",
      "crazyant_blog_articles_1_Two.xlsx Two\n",
      "crazyant_blog_articles_2_Three.xlsx Three\n",
      "crazyant_blog_articles_3_Four.xlsx Four\n",
      "crazyant_blog_articles_4_Five.xlsx Five\n",
      "crazyant_blog_articles_5_Six.xlsx Six\n"
     ]
    }
   ],
   "source": [
    "df_list=[]\n",
    "for excel_name in excel_names:\n",
    "    # read every excel into df\n",
    "    excel_path = f'{splits_dir}/{excel_name}'\n",
    "    df_split = pd.read_excel(excel_path)\n",
    "    # get username\n",
    "    username = excel_name.replace('crazyant_blog_articles_', '').replace('.xlsx', '')[2:]\n",
    "    print(excel_name, username)\n",
    "    df_split['username'] = username\n",
    "    df_list.append(df_split)"
   ]
  },
  {
   "cell_type": "code",
   "execution_count": 26,
   "id": "4188a841-1062-4128-8ae7-3b6ec8cf5ef2",
   "metadata": {},
   "outputs": [],
   "source": [
    "df_merged= pd.concat(df_list)"
   ]
  },
  {
   "cell_type": "code",
   "execution_count": 27,
   "id": "9f65daf0-b4c0-442e-a438-ae7f6fe830fd",
   "metadata": {},
   "outputs": [
    {
     "data": {
      "text/plain": [
       "(258, 4)"
      ]
     },
     "execution_count": 27,
     "metadata": {},
     "output_type": "execute_result"
    }
   ],
   "source": [
    "df_merged.shape"
   ]
  },
  {
   "cell_type": "code",
   "execution_count": 29,
   "id": "9f44219d-ae0a-455b-9f29-46bdbd3f219d",
   "metadata": {},
   "outputs": [
    {
     "data": {
      "text/html": [
       "<div>\n",
       "<style scoped>\n",
       "    .dataframe tbody tr th:only-of-type {\n",
       "        vertical-align: middle;\n",
       "    }\n",
       "\n",
       "    .dataframe tbody tr th {\n",
       "        vertical-align: top;\n",
       "    }\n",
       "\n",
       "    .dataframe thead th {\n",
       "        text-align: right;\n",
       "    }\n",
       "</style>\n",
       "<table border=\"1\" class=\"dataframe\">\n",
       "  <thead>\n",
       "    <tr style=\"text-align: right;\">\n",
       "      <th></th>\n",
       "      <th>id</th>\n",
       "      <th>title</th>\n",
       "      <th>tags</th>\n",
       "      <th>username</th>\n",
       "    </tr>\n",
       "  </thead>\n",
       "  <tbody>\n",
       "    <tr>\n",
       "      <th>0</th>\n",
       "      <td>2585</td>\n",
       "      <td>Tensorflow怎样接收变长列表特征</td>\n",
       "      <td>python,tensorflow,特征工程</td>\n",
       "      <td>one</td>\n",
       "    </tr>\n",
       "    <tr>\n",
       "      <th>1</th>\n",
       "      <td>2583</td>\n",
       "      <td>Pandas实现数据的合并concat</td>\n",
       "      <td>pandas,python,数据分析</td>\n",
       "      <td>one</td>\n",
       "    </tr>\n",
       "    <tr>\n",
       "      <th>2</th>\n",
       "      <td>2574</td>\n",
       "      <td>Pandas的Index索引有什么用途？</td>\n",
       "      <td>pandas,python,数据分析</td>\n",
       "      <td>one</td>\n",
       "    </tr>\n",
       "    <tr>\n",
       "      <th>3</th>\n",
       "      <td>2564</td>\n",
       "      <td>机器学习常用数据集大全</td>\n",
       "      <td>python,机器学习</td>\n",
       "      <td>one</td>\n",
       "    </tr>\n",
       "    <tr>\n",
       "      <th>4</th>\n",
       "      <td>2561</td>\n",
       "      <td>一个数据科学家的修炼路径</td>\n",
       "      <td>数据分析</td>\n",
       "      <td>one</td>\n",
       "    </tr>\n",
       "  </tbody>\n",
       "</table>\n",
       "</div>"
      ],
      "text/plain": [
       "     id                 title                    tags username\n",
       "0  2585  Tensorflow怎样接收变长列表特征  python,tensorflow,特征工程      one\n",
       "1  2583   Pandas实现数据的合并concat      pandas,python,数据分析      one\n",
       "2  2574  Pandas的Index索引有什么用途？      pandas,python,数据分析      one\n",
       "3  2564           机器学习常用数据集大全             python,机器学习      one\n",
       "4  2561          一个数据科学家的修炼路径                    数据分析      one"
      ]
     },
     "execution_count": 29,
     "metadata": {},
     "output_type": "execute_result"
    }
   ],
   "source": [
    "df_merged.head()"
   ]
  },
  {
   "cell_type": "code",
   "execution_count": 30,
   "id": "546af271-931e-4b95-a569-2245ba5beb37",
   "metadata": {},
   "outputs": [
    {
     "data": {
      "text/plain": [
       "one      43\n",
       "Two      43\n",
       "Three    43\n",
       "Four     43\n",
       "Five     43\n",
       "Six      43\n",
       "Name: username, dtype: int64"
      ]
     },
     "execution_count": 30,
     "metadata": {},
     "output_type": "execute_result"
    }
   ],
   "source": [
    "df_merged['username'].value_counts()"
   ]
  },
  {
   "cell_type": "code",
   "execution_count": 31,
   "id": "98a7aa79-4b73-49cb-8ac6-02ecc3c0272b",
   "metadata": {},
   "outputs": [],
   "source": [
    "df_merged.to_excel(f'{work_dir}/crazyant_blog_articles_merged.xlsx', index=False)"
   ]
  },
  {
   "cell_type": "code",
   "execution_count": null,
   "id": "ed35d50d-31a5-4625-a5ff-063c933dd2b0",
   "metadata": {},
   "outputs": [],
   "source": []
  }
 ],
 "metadata": {
  "kernelspec": {
   "display_name": "Python 3 (ipykernel)",
   "language": "python",
   "name": "python3"
  },
  "language_info": {
   "codemirror_mode": {
    "name": "ipython",
    "version": 3
   },
   "file_extension": ".py",
   "mimetype": "text/x-python",
   "name": "python",
   "nbconvert_exporter": "python",
   "pygments_lexer": "ipython3",
   "version": "3.9.7"
  }
 },
 "nbformat": 4,
 "nbformat_minor": 5
}
